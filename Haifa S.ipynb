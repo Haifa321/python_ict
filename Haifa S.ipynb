{
 "cells": [
  {
   "cell_type": "code",
   "execution_count": 1,
   "id": "6e7be280",
   "metadata": {},
   "outputs": [],
   "source": [
    "#SECTION 1\n",
    "\n",
    "#Reverse a list using python list1=[100,200,300,400,500]\n"
   ]
  },
  {
   "cell_type": "code",
   "execution_count": 2,
   "id": "a2609d8e",
   "metadata": {},
   "outputs": [
    {
     "name": "stdout",
     "output_type": "stream",
     "text": [
      "Reverse of the list : [500, 400, 300, 200, 100]\n"
     ]
    }
   ],
   "source": [
    "list1=[100,200,300,400,500]\n",
    "list1.reverse()\n",
    "print(\"Reverse of the list :\",list1)"
   ]
  },
  {
   "cell_type": "code",
   "execution_count": 3,
   "id": "3a867cc2",
   "metadata": {},
   "outputs": [],
   "source": [
    "#Write a python program to find the square of 5"
   ]
  },
  {
   "cell_type": "code",
   "execution_count": 4,
   "id": "37cb7369",
   "metadata": {
    "scrolled": true
   },
   "outputs": [
    {
     "name": "stdout",
     "output_type": "stream",
     "text": [
      "square of 5 =  25\n"
     ]
    }
   ],
   "source": [
    "number=5\n",
    "while number<=5:\n",
    "    print(\"square of 5 = \",number**2)\n",
    "    number+=5"
   ]
  },
  {
   "cell_type": "code",
   "execution_count": 5,
   "id": "532185c2",
   "metadata": {},
   "outputs": [],
   "source": [
    "#Write a python program to find the sum of all items in a dictionary"
   ]
  },
  {
   "cell_type": "code",
   "execution_count": 6,
   "id": "0d3ee68f",
   "metadata": {},
   "outputs": [
    {
     "name": "stdout",
     "output_type": "stream",
     "text": [
      "sum of all the items :  600\n"
     ]
    }
   ],
   "source": [
    "def show_sum():\n",
    "    sum=0\n",
    "    for i in input .values():\n",
    "        sum=sum+i\n",
    "    return sum\n",
    "input = {'a':100,'b':200,'c':300}\n",
    "print(\"sum of all the items : \",show_sum())"
   ]
  },
  {
   "cell_type": "code",
   "execution_count": 7,
   "id": "344f4411",
   "metadata": {},
   "outputs": [],
   "source": [
    "#SECTION 2\n",
    "\n",
    "#Write a python program to print the current year,month, and day"
   ]
  },
  {
   "cell_type": "code",
   "execution_count": 8,
   "id": "ab7e0ca1",
   "metadata": {},
   "outputs": [
    {
     "name": "stdout",
     "output_type": "stream",
     "text": [
      "Current year  :  2022\n",
      "Current month :  12\n",
      "Curret day    :  11\n",
      "Current date  :  2022-12-11\n"
     ]
    }
   ],
   "source": [
    "from datetime import date\n",
    "current_date = date.today()\n",
    "print(\"Current year  : \",current_date.year)\n",
    "print(\"Current month : \",current_date.month)\n",
    "print(\"Curret day    : \",current_date.day)\n",
    "print(\"Current date  : \",current_date)"
   ]
  },
  {
   "cell_type": "code",
   "execution_count": 9,
   "id": "7e460c2c",
   "metadata": {},
   "outputs": [],
   "source": [
    "#Display the duplicate items from a given list:10,20,60,30,20,40,30,60,70,80\n"
   ]
  },
  {
   "cell_type": "code",
   "execution_count": 10,
   "id": "46569587",
   "metadata": {},
   "outputs": [
    {
     "name": "stdout",
     "output_type": "stream",
     "text": [
      "The  given list is list2 = [10,20,60,30,20,40,30,60,70,80]\n",
      " \n",
      "The duplicate items in list2 is : [20, 30, 60]\n"
     ]
    }
   ],
   "source": [
    "list2=[10,20,60,30,20,40,30,60,70,80]\n",
    "uniqueList = []\n",
    "duplicateList = []\n",
    "for i in list2:\n",
    "    if i not in uniqueList:\n",
    "        uniqueList.append(i)\n",
    "    elif i not in  duplicateList:\n",
    "            duplicateList.append(i)\n",
    "print(\"The  given list is list2 = [10,20,60,30,20,40,30,60,70,80]\\n \")        \n",
    "print( \"The duplicate items in list2 is :\",duplicateList)            "
   ]
  },
  {
   "cell_type": "code",
   "execution_count": 11,
   "id": "a488ed02",
   "metadata": {},
   "outputs": [],
   "source": [
    "#Write a python program to construct the following pattern,using a nested for loop"
   ]
  },
  {
   "cell_type": "code",
   "execution_count": 12,
   "id": "98ecad9a",
   "metadata": {},
   "outputs": [
    {
     "name": "stdout",
     "output_type": "stream",
     "text": [
      "\n",
      "* \n",
      "* * \n",
      "* * * \n",
      "* * * * \n",
      "* * * * * \n",
      "* * * * \n",
      "* * * \n",
      "* * \n",
      "* \n"
     ]
    }
   ],
   "source": [
    "n=5;\n",
    "for i in range(n):\n",
    "    for j in range(i):\n",
    "        print('* ',end=\"\")\n",
    "    print('')\n",
    "for i in range(n,0,-1):\n",
    "    for j in range(i):\n",
    "        print('* ',end=\"\")\n",
    "    print('')    "
   ]
  },
  {
   "cell_type": "code",
   "execution_count": 13,
   "id": "cea94c82",
   "metadata": {},
   "outputs": [],
   "source": [
    "#SECTION 3\n",
    "\n",
    "\n",
    "#Python program to convert the temperature in degree centigrade to fahrenheit and vice versa"
   ]
  },
  {
   "cell_type": "code",
   "execution_count": 1,
   "id": "97be9f3c",
   "metadata": {
    "scrolled": true
   },
   "outputs": [
    {
     "name": "stdout",
     "output_type": "stream",
     "text": [
      "Temperature Conversions:\n",
      "\n",
      "1.celsius to Fahrenheit\n",
      "2.Fahrenheit to celsius\n",
      "Enter your choice :1\n",
      "Enter temperature in celsius : 65\n",
      "Temperature in Fahrenheit scale is:  149.0\n"
     ]
    }
   ],
   "source": [
    "print(\"Temperature Conversions:\\n\")\n",
    "print(\"1.celsius to Fahrenheit\")\n",
    "print(\"2.Fahrenheit to celsius\")\n",
    "choice=int(input(\"Enter your choice :\"))\n",
    "if choice==1:\n",
    "    C= float(input(\"Enter temperature in celsius : \"))\n",
    "    F= (C * 9/5) + 32\n",
    "    print(\"Temperature in Fahrenheit scale is: \",F)\n",
    "elif choice==2:\n",
    "    F= float(input(\"Enter temperature in Fahrenheit : \"))\n",
    "    C= (F -32 )* 5/9\n",
    "    print(\"Temperature in celsius scale is \",C)\n",
    "else:\n",
    "    print(\"Invalid choice\")\n",
    "    "
   ]
  },
  {
   "cell_type": "code",
   "execution_count": null,
   "id": "930c6a32",
   "metadata": {},
   "outputs": [],
   "source": [
    "#Modify the element of a nested list inside the following list3=[5,[10,15,[20,25,[30,35],40],45],50]\n"
   ]
  },
  {
   "cell_type": "code",
   "execution_count": 4,
   "id": "d7324179",
   "metadata": {},
   "outputs": [
    {
     "name": "stdout",
     "output_type": "stream",
     "text": [
      "[5, [10, 15, [20, 25, [30, 3500], 40], 45], 50]\n"
     ]
    }
   ],
   "source": [
    "list3=[5,[10,15,[20,25,[30,35],40],45],50]\n",
    "list3[1][2][2][1]=3500\n",
    "print(list3)       "
   ]
  },
  {
   "cell_type": "code",
   "execution_count": null,
   "id": "f5651d30",
   "metadata": {},
   "outputs": [],
   "source": [
    "#Write a python program to print the numbers from a given number n till 0 using recursion"
   ]
  },
  {
   "cell_type": "code",
   "execution_count": 2,
   "id": "9551a0b1",
   "metadata": {},
   "outputs": [
    {
     "name": "stdout",
     "output_type": "stream",
     "text": [
      "10\n",
      "9\n",
      "8\n",
      "7\n",
      "6\n",
      "5\n",
      "4\n",
      "3\n",
      "2\n",
      "1\n"
     ]
    }
   ],
   "source": [
    "n=10\n",
    "def print_numbers(n):\n",
    "    if n!=0:\n",
    "        print(n)\n",
    "        print_numbers(n-1)  \n",
    "print_numbers(n)"
   ]
  },
  {
   "cell_type": "code",
   "execution_count": null,
   "id": "825c7c07",
   "metadata": {},
   "outputs": [],
   "source": []
  },
  {
   "cell_type": "code",
   "execution_count": null,
   "id": "51e8900a",
   "metadata": {},
   "outputs": [],
   "source": []
  },
  {
   "cell_type": "code",
   "execution_count": null,
   "id": "597cf9cb",
   "metadata": {},
   "outputs": [],
   "source": []
  },
  {
   "cell_type": "code",
   "execution_count": null,
   "id": "bdf44155",
   "metadata": {},
   "outputs": [],
   "source": []
  },
  {
   "cell_type": "code",
   "execution_count": null,
   "id": "a2544d53",
   "metadata": {},
   "outputs": [],
   "source": [
    "\n"
   ]
  }
 ],
 "metadata": {
  "kernelspec": {
   "display_name": "Python 3 (ipykernel)",
   "language": "python",
   "name": "python3"
  },
  "language_info": {
   "codemirror_mode": {
    "name": "ipython",
    "version": 3
   },
   "file_extension": ".py",
   "mimetype": "text/x-python",
   "name": "python",
   "nbconvert_exporter": "python",
   "pygments_lexer": "ipython3",
   "version": "3.9.13"
  }
 },
 "nbformat": 4,
 "nbformat_minor": 5
}
